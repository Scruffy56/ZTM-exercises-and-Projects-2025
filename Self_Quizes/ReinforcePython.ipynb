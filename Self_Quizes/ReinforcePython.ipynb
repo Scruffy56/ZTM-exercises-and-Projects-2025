{
 "cells": [
  {
   "cell_type": "markdown",
   "id": "0ab02fbe-fb6b-4168-b560-0e7a379640c5",
   "metadata": {},
   "source": [
    "### Quiz using Strings - to better understand.\n",
    "#### Question  1. Reverse a String\n",
    "#### Write a function that takes a string as input and returns the string reversed."
   ]
  },
  {
   "cell_type": "code",
   "execution_count": 13,
   "id": "04953028-c601-4f0f-8453-5e7ca9905b5a",
   "metadata": {},
   "outputs": [
    {
     "name": "stdin",
     "output_type": "stream",
     "text": [
      "Enter your word here:  christmas\n"
     ]
    },
    {
     "name": "stdout",
     "output_type": "stream",
     "text": [
      "samtsirhc"
     ]
    }
   ],
   "source": [
    "def reverse_string(s):\n",
    "    s = list(s)\n",
    "    s.reverse()\n",
    "    for idx in s:\n",
    "        print(idx, end=\"\")\n",
    "        \n",
    "reverse_string(s = input(\"Enter your word here: \"))"
   ]
  },
  {
   "cell_type": "markdown",
   "id": "333768d1-2071-4522-8ac7-7d00f8fbce63",
   "metadata": {},
   "source": [
    "## This is a modified version from AI: using the Join() function."
   ]
  },
  {
   "cell_type": "code",
   "execution_count": 14,
   "id": "eb81b8ee-f340-4df1-af8d-ec5605a0875f",
   "metadata": {},
   "outputs": [
    {
     "name": "stdin",
     "output_type": "stream",
     "text": [
      "Enter your word here:  christmas\n"
     ]
    },
    {
     "name": "stdout",
     "output_type": "stream",
     "text": [
      "samtsirhc\n"
     ]
    }
   ],
   "source": [
    "def reverse_string(s):\n",
    "    s = list(s) # Converts the string to a list.\n",
    "    s.reverse() # Reverses the list.\n",
    "    # Join the list back into a string and print it\n",
    "    print(\"\".join(s))\n",
    "\n",
    "reverse_string(s = input(\"Enter your word here: \")) # Calls the function reverse_string ()"
   ]
  },
  {
   "cell_type": "markdown",
   "id": "b1815c13-0f4f-4ced-bb75-2bb17e36f275",
   "metadata": {},
   "source": [
    "### 2. Count Vowels in a String\n",
    "#### Write a function that takes a string and counts how many vowels (a, e, i, o, u) are in the string (case insensitive).\n",
    "#### Question  2. "
   ]
  },
  {
   "cell_type": "code",
   "execution_count": 30,
   "id": "24d81c4c-e30f-490d-8ced-bf55eee54aab",
   "metadata": {},
   "outputs": [
    {
     "name": "stdin",
     "output_type": "stream",
     "text": [
      "Enter your string here:  over age under effort inside and out\n"
     ]
    },
    {
     "name": "stdout",
     "output_type": "stream",
     "text": [
      "there are 2 a's in the string\n",
      "there are 5 e's in the string\n",
      "there are 2 i's in the string\n",
      "there are 3 o's in the string\n",
      "there are 2 u's in the string\n"
     ]
    }
   ],
   "source": [
    "def count_vowels(s):\n",
    "    s = s.casefold() #makes all lowercase\n",
    "    output = s.count(\"a\")\n",
    "    print(f\"there are {output} a's in the string\")\n",
    "    output = s.count(\"e\")\n",
    "    print(f\"there are {output} e's in the string\")\n",
    "    output = s.count(\"i\")\n",
    "    print(f\"there are {output} i's in the string\")\n",
    "    output = s.count(\"o\")\n",
    "    print(f\"there are {output} o's in the string\")\n",
    "    output = s.count(\"u\")\n",
    "    print(f\"there are {output} u's in the string\")\n",
    "\n",
    "count_vowels(s = input(\"Enter your string here: \"))"
   ]
  },
  {
   "cell_type": "markdown",
   "id": "5f9e7559-edec-4800-ba7d-09927db70190",
   "metadata": {},
   "source": [
    "AI says: \n",
    "Your solution works, but it could be optimized by looping through the vowels instead of calling count() for each vowel individually. This way, you don’t have to repeat the same block of code for each vowel, and you can handle any vowels more easily if you need to extend the logic in the future.\n",
    "\n",
    "Here’s an optimized version of your code:\n"
   ]
  },
  {
   "cell_type": "code",
   "execution_count": 1,
   "id": "ff46bed9-5e02-4de8-8a4c-217276a960f2",
   "metadata": {},
   "outputs": [
    {
     "name": "stdin",
     "output_type": "stream",
     "text": [
      "Enter your string here:  the boy is all over the trees and under cars\n"
     ]
    },
    {
     "name": "stdout",
     "output_type": "stream",
     "text": [
      "There are 3 a's in the string.\n",
      "There are 6 e's in the string.\n",
      "There are 1 i's in the string.\n",
      "There are 2 o's in the string.\n",
      "There are 1 u's in the string.\n"
     ]
    }
   ],
   "source": [
    "def count_vowels(s):\n",
    "    s = s.casefold()  # makes all lowercase\n",
    "    vowels = \"aeiou\"\n",
    "    for vowel in vowels:\n",
    "        count = s.count(vowel)\n",
    "        print(f\"There are {count} {vowel}'s in the string.\")\n",
    "\n",
    "count_vowels(s = input(\"Enter your string here: \"))"
   ]
  },
  {
   "cell_type": "markdown",
   "id": "48a782df-e72a-4adf-a695-e337e5d85ce5",
   "metadata": {},
   "source": [
    "Looping through vowels: We create a string vowels = \"aeiou\" and then loop through each character (vowel) to count its occurrences in the string.\n",
    "Code Reduction: The print statement now dynamically uses the vowel in the output, so it avoids repeating the same logic multiple times.\n",
    "This version is more concise and easier to extend. You can easily add more vowels or other characters if needed without rewriting the code."
   ]
  },
  {
   "cell_type": "markdown",
   "id": "b404aebc-7140-492a-b9fc-eee340ba56b5",
   "metadata": {},
   "source": [
    "#### Question 3. Check if a String is a Palindrome\n",
    "Write a function that checks if a string is a palindrome (reads the same forwards and backwards), ignoring spaces and case."
   ]
  },
  {
   "cell_type": "code",
   "execution_count": 58,
   "id": "fb92d2b1-ea0f-4dfb-9bd4-cbd909770975",
   "metadata": {},
   "outputs": [
    {
     "name": "stdin",
     "output_type": "stream",
     "text": [
      "Enter the word you believe to be a palindrome:  ada\n"
     ]
    },
    {
     "name": "stdout",
     "output_type": "stream",
     "text": [
      "ada\n",
      "ada\n",
      "you have a palindrome\n"
     ]
    }
   ],
   "source": [
    "def is_palindrome(s):   # Apparent my version only is checking for one work, where as AI version\n",
    "                        # is meant for even sentences with spaces removed.\n",
    "    s = s.casefold()\n",
    "    s = s.strip()\n",
    "    s1 = list(s)\n",
    "    s2 = s1.reverse()\n",
    "    \n",
    "    s1 = (\"\".join(s1))\n",
    "    print(s1)\n",
    "    print(s)\n",
    "    if s1 == s:\n",
    "        print('you have a palindrome')\n",
    "    else:\n",
    "        print('you don\\'t have a palindrome')\n",
    "\n",
    "is_palindrome(s = input(\"Enter the word you believe to be a palindrome: \"))"
   ]
  },
  {
   "cell_type": "markdown",
   "id": "2ff10901-634a-42ce-9b37-29fb0d9491ae",
   "metadata": {},
   "source": [
    "AI Review of your work: \n",
    "\n",
    "Your implementation of the palindrome check is close, but there are a few small issues to address:\n",
    "\n",
    "Reversing the list: The reverse() method does not return anything; it modifies the list in place. So, s2 = s1.reverse() doesn't work as you might expect. Instead, you can reverse the list by directly calling s1.reverse() and then comparing it after joining it back into a string.\n",
    "\n",
    "Strip unnecessary whitespace: It's great that you're using strip() to remove leading and trailing whitespace, but you also need to ensure the string comparison is case-insensitive and ignores spaces."
   ]
  },
  {
   "cell_type": "code",
   "execution_count": 59,
   "id": "8e12209e-d478-4f7f-9e37-fd357e0c1bf1",
   "metadata": {},
   "outputs": [
    {
     "name": "stdin",
     "output_type": "stream",
     "text": [
      "Enter the word you believe to be a palindrome:  A man a plan a canal Panama\n"
     ]
    },
    {
     "name": "stdout",
     "output_type": "stream",
     "text": [
      "You have a palindrome!\n"
     ]
    }
   ],
   "source": [
    "def is_palindrome(s):\n",
    "    s = s.casefold()  # Convert to lowercase to make the comparison case-insensitive\n",
    "    s = s.replace(\" \", \"\")  # Remove spaces for a more accurate check\n",
    "    s1 = list(s)  # Convert the string to a list of characters\n",
    "    s1.reverse()  # Reverse the list in place\n",
    "    \n",
    "    s1 = \"\".join(s1)  # Join the reversed list back into a string\n",
    "\n",
    "    if s1 == s:  # Compare the reversed string with the original\n",
    "        print('You have a palindrome!')\n",
    "    else:\n",
    "        print('You don\\'t have a palindrome.')\n",
    "\n",
    "# Test the function\n",
    "is_palindrome(s = input(\"Enter the string you believe to be a palindrome: \"))\n"
   ]
  },
  {
   "cell_type": "markdown",
   "id": "a62df407-f169-46e9-a9e0-1af5bd1ebcdf",
   "metadata": {},
   "source": [
    "### Question 4. Find the First Non-Repeated Character\n",
    "Write a function that returns the first non-repeated character from a string. If no such character exists, return None."
   ]
  },
  {
   "cell_type": "code",
   "execution_count": 98,
   "id": "cfd0fa25-aba8-4dfa-bf3c-64aea0c09999",
   "metadata": {},
   "outputs": [
    {
     "name": "stdin",
     "output_type": "stream",
     "text": [
      "Enter word or phrase  cookies on christmas\n"
     ]
    },
    {
     "name": "stdout",
     "output_type": "stream",
     "text": [
      "k is your non-repeating letter in the string\n"
     ]
    }
   ],
   "source": [
    "def first_non_repeated(s):\n",
    "    \n",
    "    s = s.casefold() # makes all letters lowercase\n",
    "    s = s.replace(\" \", \"\") # removes all blank spaces (whitespaces) \n",
    "    s = list(s)            # make string a list\n",
    "    s = str(\"\".join(s))    # Do we even need to create a list and use join() and turn it back into a string???\n",
    "    word = s               # copy s variable into word\n",
    "    # print(word)\n",
    "    for letter in word:       # iterate through each letter to find a single\n",
    "        count = s.count(letter)   # identify each letter and its count\n",
    "        if count <= 1:        # once the first letter is identified as being alone, end the program\n",
    "            print(f\"{letter} is your non-repeating letter in the string\")    # display the sole letter\n",
    "            break\n",
    "            \n",
    "first_non_repeated(s = input(\"Enter word or phrase \"))"
   ]
  },
  {
   "cell_type": "markdown",
   "id": "6712988f-a3be-41d3-8793-8bf6b25bc69a",
   "metadata": {},
   "source": [
    "AI says: \n",
    "Your solution works, but there are a few points to consider for optimization and simplicity. The conversion of the string to a list, joining it back, and then using s.count() inside the loop can be avoided, as it introduces unnecessary complexity.\n",
    "\n",
    "Here's an optimized version of your solution:\n"
   ]
  },
  {
   "cell_type": "code",
   "execution_count": null,
   "id": "811e8367-449e-4643-a6e1-ad0feff58986",
   "metadata": {},
   "outputs": [],
   "source": [
    "def first_non_repeated(s):\n",
    "    s = s.casefold()  # makes all letters lowercase\n",
    "    s = s.replace(\" \", \"\")  # removes all blank spaces (whitespaces) \n",
    "\n",
    "    # Loop through each letter in the string\n",
    "    for letter in s:\n",
    "        # If the letter appears only once in the string, it's the first non-repeating letter\n",
    "        if s.count(letter) == 1:\n",
    "            print(f\"{letter} is your non-repeating letter in the string\")\n",
    "            break\n",
    "    else:\n",
    "        # If no non-repeating letter is found, print this message\n",
    "        print(\"No non-repeating letter found.\")\n",
    "\n",
    "# Test the function\n",
    "first_non_repeated(s = input(\"Enter word or phrase: \"))\n"
   ]
  },
  {
   "cell_type": "markdown",
   "id": "6523482b-99de-4200-a9c6-e3d45b3e98a8",
   "metadata": {},
   "source": [
    "### Explanation:\n",
    "1. **No need to convert the string to a list**: You can iterate through the string directly, eliminating the need to convert it to a list and then back to a string.\n",
    "2. **`count()` usage**: We're using `s.count(letter)` directly within the loop to check how many times the current letter appears in the string.\n",
    "3. **Edge Case Handling**: The `else` block after the loop ensures that if no non-repeating character is found, the program will notify the user.\n",
    "\n",
    "### Example 1:\n",
    "- Input: `\"PHRASSARRHHPEMSLWWALM\"`\n",
    "- Output: `\"E is your non-repeating letter in the string\"`\n",
    "\n",
    "### Example 2:\n",
    "- Input: `\"AABBCC\"`\n",
    "- Output: `\"No non-repeating letter found.\"`\n",
    "\n",
    "This version avoids extra steps and makes the code cleaner. Let me know if you have any questions or need further adjustments!"
   ]
  },
  {
   "cell_type": "code",
   "execution_count": null,
   "id": "54296df5-b2c7-40e6-8ab4-0cee9e0cad51",
   "metadata": {},
   "outputs": [],
   "source": []
  }
 ],
 "metadata": {
  "kernelspec": {
   "display_name": "Python 3 (ipykernel)",
   "language": "python",
   "name": "python3"
  },
  "language_info": {
   "codemirror_mode": {
    "name": "ipython",
    "version": 3
   },
   "file_extension": ".py",
   "mimetype": "text/x-python",
   "name": "python",
   "nbconvert_exporter": "python",
   "pygments_lexer": "ipython3",
   "version": "3.12.7"
  }
 },
 "nbformat": 4,
 "nbformat_minor": 5
}
