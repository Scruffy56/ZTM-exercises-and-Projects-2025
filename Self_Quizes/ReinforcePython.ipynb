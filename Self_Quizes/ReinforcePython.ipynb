{
 "cells": [
  {
   "cell_type": "markdown",
   "id": "0ab02fbe-fb6b-4168-b560-0e7a379640c5",
   "metadata": {},
   "source": [
    "### Quiz using Strings - to better understand.\n",
    "#### Question  1. Reverse a String\n",
    "#### Write a function that takes a string as input and returns the string reversed."
   ]
  },
  {
   "cell_type": "code",
   "execution_count": 13,
   "id": "04953028-c601-4f0f-8453-5e7ca9905b5a",
   "metadata": {},
   "outputs": [
    {
     "name": "stdout",
     "output_type": "stream",
     "text": [
      "Enter your word here:  christmas\n"
     ]
    },
    {
     "name": "stdout",
     "output_type": "stream",
     "text": [
      "samtsirhc"
     ]
    }
   ],
   "source": [
    "def reverse_string(s):\n",
    "    s = list(s)\n",
    "    s.reverse()\n",
    "    for idx in s:\n",
    "        print(idx, end=\"\")\n",
    "        \n",
    "reverse_string(s = input(\"Enter your word here: \"))"
   ]
  },
  {
   "cell_type": "markdown",
   "id": "333768d1-2071-4522-8ac7-7d00f8fbce63",
   "metadata": {},
   "source": [
    "## This is a modified version from AI: using the Join() function."
   ]
  },
  {
   "cell_type": "code",
   "execution_count": 14,
   "id": "eb81b8ee-f340-4df1-af8d-ec5605a0875f",
   "metadata": {},
   "outputs": [
    {
     "name": "stdout",
     "output_type": "stream",
     "text": [
      "Enter your word here:  christmas\n"
     ]
    },
    {
     "name": "stdout",
     "output_type": "stream",
     "text": [
      "samtsirhc\n"
     ]
    }
   ],
   "source": [
    "def reverse_string(s):\n",
    "    s = list(s) # Converts the string to a list.\n",
    "    s.reverse() # Reverses the list.\n",
    "    # Join the list back into a string and print it\n",
    "    print(\"\".join(s))\n",
    "\n",
    "reverse_string(s = input(\"Enter your word here: \")) # Calls the function reverse_string ()"
   ]
  },
  {
   "cell_type": "markdown",
   "id": "b1815c13-0f4f-4ced-bb75-2bb17e36f275",
   "metadata": {},
   "source": [
    "### 2. Count Vowels in a String\n",
    "#### Write a function that takes a string and counts how many vowels (a, e, i, o, u) are in the string (case insensitive).\n",
    "#### Question  2. "
   ]
  },
  {
   "cell_type": "code",
   "execution_count": 30,
   "id": "24d81c4c-e30f-490d-8ced-bf55eee54aab",
   "metadata": {},
   "outputs": [
    {
     "name": "stdout",
     "output_type": "stream",
     "text": [
      "Enter your string here:  over age under effort inside and out\n"
     ]
    },
    {
     "name": "stdout",
     "output_type": "stream",
     "text": [
      "there are 2 a's in the string\n",
      "there are 5 e's in the string\n",
      "there are 2 i's in the string\n",
      "there are 3 o's in the string\n",
      "there are 2 u's in the string\n"
     ]
    }
   ],
   "source": [
    "def count_vowels(s):\n",
    "    s = s.casefold() #makes all lowercase\n",
    "    output = s.count(\"a\")\n",
    "    print(f\"there are {output} a's in the string\")\n",
    "    output = s.count(\"e\")\n",
    "    print(f\"there are {output} e's in the string\")\n",
    "    output = s.count(\"i\")\n",
    "    print(f\"there are {output} i's in the string\")\n",
    "    output = s.count(\"o\")\n",
    "    print(f\"there are {output} o's in the string\")\n",
    "    output = s.count(\"u\")\n",
    "    print(f\"there are {output} u's in the string\")\n",
    "\n",
    "count_vowels(s = input(\"Enter your string here: \"))"
   ]
  },
  {
   "cell_type": "markdown",
   "id": "5f9e7559-edec-4800-ba7d-09927db70190",
   "metadata": {},
   "source": [
    "AI says: \n",
    "Your solution works, but it could be optimized by looping through the vowels instead of calling count() for each vowel individually. This way, you don’t have to repeat the same block of code for each vowel, and you can handle any vowels more easily if you need to extend the logic in the future.\n",
    "\n",
    "Here’s an optimized version of your code:\n"
   ]
  },
  {
   "cell_type": "code",
   "execution_count": 1,
   "id": "ff46bed9-5e02-4de8-8a4c-217276a960f2",
   "metadata": {},
   "outputs": [
    {
     "name": "stdout",
     "output_type": "stream",
     "text": [
      "Enter your string here:  the boy is all over the trees and under cars\n"
     ]
    },
    {
     "name": "stdout",
     "output_type": "stream",
     "text": [
      "There are 3 a's in the string.\n",
      "There are 6 e's in the string.\n",
      "There are 1 i's in the string.\n",
      "There are 2 o's in the string.\n",
      "There are 1 u's in the string.\n"
     ]
    }
   ],
   "source": [
    "def count_vowels(s):\n",
    "    s = s.casefold()  # makes all lowercase\n",
    "    vowels = \"aeiou\"\n",
    "    for vowel in vowels:\n",
    "        count = s.count(vowel)\n",
    "        print(f\"There are {count} {vowel}'s in the string.\")\n",
    "\n",
    "count_vowels(s = input(\"Enter your string here: \"))"
   ]
  },
  {
   "cell_type": "markdown",
   "id": "48a782df-e72a-4adf-a695-e337e5d85ce5",
   "metadata": {},
   "source": [
    "Looping through vowels: We create a string vowels = \"aeiou\" and then loop through each character (vowel) to count its occurrences in the string.\n",
    "Code Reduction: The print statement now dynamically uses the vowel in the output, so it avoids repeating the same logic multiple times.\n",
    "This version is more concise and easier to extend. You can easily add more vowels or other characters if needed without rewriting the code."
   ]
  },
  {
   "cell_type": "markdown",
   "id": "b404aebc-7140-492a-b9fc-eee340ba56b5",
   "metadata": {},
   "source": [
    "#### Question 3. Check if a String is a Palindrome\n",
    "Write a function that checks if a string is a palindrome (reads the same forwards and backwards), ignoring spaces and case."
   ]
  },
  {
   "cell_type": "code",
   "execution_count": 58,
   "id": "fb92d2b1-ea0f-4dfb-9bd4-cbd909770975",
   "metadata": {},
   "outputs": [
    {
     "name": "stdout",
     "output_type": "stream",
     "text": [
      "Enter the word you believe to be a palindrome:  ada\n"
     ]
    },
    {
     "name": "stdout",
     "output_type": "stream",
     "text": [
      "ada\n",
      "ada\n",
      "you have a palindrome\n"
     ]
    }
   ],
   "source": [
    "def is_palindrome(s):   # Apparent my version only is checking for one work, where as AI version\n",
    "                        # is meant for even sentences with spaces removed.\n",
    "    s = s.casefold()\n",
    "    s = s.strip()\n",
    "    s1 = list(s)\n",
    "    s2 = s1.reverse()\n",
    "    \n",
    "    s1 = (\"\".join(s1))\n",
    "    print(s1)\n",
    "    print(s)\n",
    "    if s1 == s:\n",
    "        print('you have a palindrome')\n",
    "    else:\n",
    "        print('you don\\'t have a palindrome')\n",
    "\n",
    "is_palindrome(s = input(\"Enter the word you believe to be a palindrome: \"))"
   ]
  },
  {
   "cell_type": "markdown",
   "id": "2ff10901-634a-42ce-9b37-29fb0d9491ae",
   "metadata": {},
   "source": [
    "AI Review of your work: \n",
    "\n",
    "Your implementation of the palindrome check is close, but there are a few small issues to address:\n",
    "\n",
    "Reversing the list: The reverse() method does not return anything; it modifies the list in place. So, s2 = s1.reverse() doesn't work as you might expect. Instead, you can reverse the list by directly calling s1.reverse() and then comparing it after joining it back into a string.\n",
    "\n",
    "Strip unnecessary whitespace: It's great that you're using strip() to remove leading and trailing whitespace, but you also need to ensure the string comparison is case-insensitive and ignores spaces."
   ]
  },
  {
   "cell_type": "code",
   "execution_count": 59,
   "id": "8e12209e-d478-4f7f-9e37-fd357e0c1bf1",
   "metadata": {},
   "outputs": [
    {
     "name": "stdout",
     "output_type": "stream",
     "text": [
      "Enter the word you believe to be a palindrome:  A man a plan a canal Panama\n"
     ]
    },
    {
     "name": "stdout",
     "output_type": "stream",
     "text": [
      "You have a palindrome!\n"
     ]
    }
   ],
   "source": [
    "def is_palindrome(s):\n",
    "    s = s.casefold()  # Convert to lowercase to make the comparison case-insensitive\n",
    "    s = s.replace(\" \", \"\")  # Remove spaces for a more accurate check\n",
    "    s1 = list(s)  # Convert the string to a list of characters\n",
    "    s1.reverse()  # Reverse the list in place\n",
    "    \n",
    "    s1 = \"\".join(s1)  # Join the reversed list back into a string\n",
    "\n",
    "    if s1 == s:  # Compare the reversed string with the original\n",
    "        print('You have a palindrome!')\n",
    "    else:\n",
    "        print('You don\\'t have a palindrome.')\n",
    "\n",
    "# Test the function\n",
    "is_palindrome(s = input(\"Enter the string you believe to be a palindrome: \"))\n"
   ]
  },
  {
   "cell_type": "markdown",
   "id": "a62df407-f169-46e9-a9e0-1af5bd1ebcdf",
   "metadata": {},
   "source": [
    "### Question 4. Find the First Non-Repeated Character\n",
    "Write a function that returns the first non-repeated character from a string. If no such character exists, return None."
   ]
  },
  {
   "cell_type": "code",
   "execution_count": 98,
   "id": "cfd0fa25-aba8-4dfa-bf3c-64aea0c09999",
   "metadata": {},
   "outputs": [
    {
     "name": "stdout",
     "output_type": "stream",
     "text": [
      "Enter word or phrase  cookies on christmas\n"
     ]
    },
    {
     "name": "stdout",
     "output_type": "stream",
     "text": [
      "k is your non-repeating letter in the string\n"
     ]
    }
   ],
   "source": [
    "def first_non_repeated(s):\n",
    "    \n",
    "    s = s.casefold() # makes all letters lowercase\n",
    "    s = s.replace(\" \", \"\") # removes all blank spaces (whitespaces) \n",
    "    s = list(s)            # make string a list\n",
    "    s = str(\"\".join(s))    # Do we even need to create a list and use join() and turn it back into a string???\n",
    "    word = s               # copy s variable into word\n",
    "    # print(word)\n",
    "    for letter in word:       # iterate through each letter to find a single\n",
    "        count = s.count(letter)   # identify each letter and its count\n",
    "        if count <= 1:        # once the first letter is identified as being alone, end the program\n",
    "            print(f\"{letter} is your non-repeating letter in the string\")    # display the sole letter\n",
    "            break\n",
    "            \n",
    "first_non_repeated(s = input(\"Enter word or phrase \"))"
   ]
  },
  {
   "cell_type": "markdown",
   "id": "6712988f-a3be-41d3-8793-8bf6b25bc69a",
   "metadata": {},
   "source": [
    "AI says: \n",
    "Your solution works, but there are a few points to consider for optimization and simplicity. The conversion of the string to a list, joining it back, and then using s.count() inside the loop can be avoided, as it introduces unnecessary complexity.\n",
    "\n",
    "Here's an optimized version of your solution:\n"
   ]
  },
  {
   "cell_type": "code",
   "execution_count": null,
   "id": "811e8367-449e-4643-a6e1-ad0feff58986",
   "metadata": {},
   "outputs": [],
   "source": [
    "def first_non_repeated(s):\n",
    "    s = s.casefold()  # makes all letters lowercase\n",
    "    s = s.replace(\" \", \"\")  # removes all blank spaces (whitespaces) \n",
    "\n",
    "    # Loop through each letter in the string\n",
    "    for letter in s:\n",
    "        # If the letter appears only once in the string, it's the first non-repeating letter\n",
    "        if s.count(letter) == 1:\n",
    "            print(f\"{letter} is your non-repeating letter in the string\")\n",
    "            break\n",
    "    else:\n",
    "        # If no non-repeating letter is found, print this message\n",
    "        print(\"No non-repeating letter found.\")\n",
    "\n",
    "# Test the function\n",
    "first_non_repeated(s = input(\"Enter word or phrase: \"))\n"
   ]
  },
  {
   "cell_type": "markdown",
   "id": "6523482b-99de-4200-a9c6-e3d45b3e98a8",
   "metadata": {},
   "source": [
    "### Explanation:\n",
    "1. **No need to convert the string to a list**: You can iterate through the string directly, eliminating the need to convert it to a list and then back to a string.\n",
    "2. **`count()` usage**: We're using `s.count(letter)` directly within the loop to check how many times the current letter appears in the string.\n",
    "3. **Edge Case Handling**: The `else` block after the loop ensures that if no non-repeating character is found, the program will notify the user.\n",
    "\n",
    "### Example 1:\n",
    "- Input: `\"PHRASSARRHHPEMSLWWALM\"`\n",
    "- Output: `\"E is your non-repeating letter in the string\"`\n",
    "\n",
    "### Example 2:\n",
    "- Input: `\"AABBCC\"`\n",
    "- Output: `\"No non-repeating letter found.\"`\n",
    "\n",
    "This version avoids extra steps and makes the code cleaner. Let me know if you have any questions or need further adjustments!"
   ]
  },
  {
   "cell_type": "markdown",
   "id": "859a2370-9447-4590-bd74-3a95e586b226",
   "metadata": {},
   "source": [
    "## Little bit of calculus"
   ]
  },
  {
   "cell_type": "code",
   "execution_count": 99,
   "id": "f707be6c-08ee-4dbc-8dac-a2bc393d38bd",
   "metadata": {},
   "outputs": [
    {
     "name": "stdout",
     "output_type": "stream",
     "text": [
      "500\n"
     ]
    }
   ],
   "source": [
    "counter = 0  # Initialize counter to 0\n",
    "\n",
    "# Loop through range(5), which will give 5 iterations (from 0 to 4)\n",
    "for x in range(5):\n",
    "    counter += 100  # Add 100 to the counter in each iteration\n",
    "\n",
    "print(counter)  # This will print 500, as 100 is added 5 times\n"
   ]
  },
  {
   "cell_type": "markdown",
   "id": "38ae09d1-7b40-448c-9aa8-ec68a383220f",
   "metadata": {},
   "source": [
    "#### Variables: on Python Simplified"
   ]
  },
  {
   "cell_type": "markdown",
   "id": "0f942867-7881-4809-8c79-916e343b95e6",
   "metadata": {},
   "source": [
    "#### Integers, Floats\n",
    "#### Name variable rules: Can't start with a number, only characters A-z 0-9 and _   \n",
    "#### Variable are case sensitive\n",
    "#### can't use any of Python's reserved keywords as a variable name: and, as, assert, break, class, def, while, del, elif, except \n",
    "#### "
   ]
  },
  {
   "cell_type": "code",
   "execution_count": 5,
   "id": "9566191a-31c6-4277-9977-d426037840e0",
   "metadata": {},
   "outputs": [
    {
     "name": "stdout",
     "output_type": "stream",
     "text": [
      "8\n"
     ]
    }
   ],
   "source": [
    "type = 8 # Shouldn't use this either, but it's possible\n",
    "print(type)"
   ]
  },
  {
   "cell_type": "markdown",
   "id": "ad8ee4a4-4ee6-4efd-8fc3-d43309a2c7fc",
   "metadata": {},
   "source": [
    "### For Loops: Python Simlified  (Good for repetition)"
   ]
  },
  {
   "cell_type": "code",
   "execution_count": 8,
   "id": "30bb0ccc-f3a2-4aa3-a427-a64e7235608a",
   "metadata": {},
   "outputs": [
    {
     "name": "stdout",
     "output_type": "stream",
     "text": [
      "E\n",
      "A\n",
      "D\n",
      "G\n",
      "B\n",
      "E\n"
     ]
    }
   ],
   "source": [
    "my_list = [\"E\",\"A\",\"D\",\"G\",\"B\",\"E\"]\n",
    "for i in my_list:  # i = is a loop control variable or iteration variable (can use any variable), the color is the indication of the body of FOR\n",
    "    print(i)\n",
    "\n"
   ]
  },
  {
   "cell_type": "code",
   "execution_count": 9,
   "id": "95c9fcde-ff31-4ce3-9244-4a753ab17e5b",
   "metadata": {},
   "outputs": [
    {
     "name": "stdout",
     "output_type": "stream",
     "text": [
      "Kelly, can you handle this?\n",
      "Micehlle, can you handle this?\n",
      "Beyoncé, can you handle this?\n",
      "I don't think they can handle this!\n"
     ]
    }
   ],
   "source": [
    "names = [\"Kelly\",\"Michelle\",\"Beyoncé\"]\n",
    "for n in names:\n",
    "    print(n + \", can you handle this?\")\n",
    "print(\"I don't think they can handle this!\")\n"
   ]
  },
  {
   "cell_type": "markdown",
   "id": "2b497514-2c34-41d3-9275-b0e570930f39",
   "metadata": {},
   "source": [
    "##### range(10) starts at 0 - 9\n",
    "##### range(3) starts with 0 -2\n"
   ]
  },
  {
   "cell_type": "code",
   "execution_count": 12,
   "id": "eab0ebdb-6dab-4b9c-a8f3-31beac3465da",
   "metadata": {},
   "outputs": [
    {
     "name": "stdout",
     "output_type": "stream",
     "text": [
      "Hello, hello, hello, how low\n",
      "Hello, hello, hello, how low\n",
      "Hello, hello, hello, how low\n",
      "Hello, hello, hello\n"
     ]
    }
   ],
   "source": [
    "for i in range(3):\n",
    "    print(\"Hello, hello, hello, how low\")\n",
    "print(\"Hello, hello, hello\")\n",
    "# NIRVANA SONG"
   ]
  },
  {
   "cell_type": "markdown",
   "id": "2acf298a-64fb-4b35-90e3-80498bfac8ff",
   "metadata": {},
   "source": [
    "## Classes and Objects\n",
    "Objects - Attributes (color changes, name, speed and dimension / Methods (tasks and functionality)"
   ]
  },
  {
   "cell_type": "code",
   "execution_count": 20,
   "id": "fea14b56-b78d-4c62-afbd-160ab42422a2",
   "metadata": {},
   "outputs": [
    {
     "name": "stdout",
     "output_type": "stream",
     "text": [
      "<__main__.Fruit object at 0x000001F6F42AE240>\n",
      "red\n",
      "apple\n",
      "green\n",
      "kiwi\n"
     ]
    }
   ],
   "source": [
    "class Fruit:\n",
    "    def __init__(self):\n",
    "        self.name = 'apple'\n",
    "        self.color = 'red'    ## limited because it's hard coded\n",
    "\n",
    "my_fruit = Fruit()\n",
    "print(my_fruit)\n",
    "print(my_fruit.color)\n",
    "print(my_fruit.name)\n",
    "\n",
    "my_fruit.color = \"green\"\n",
    "my_fruit.name = \"kiwi\"\n",
    "print(my_fruit.color)\n",
    "print(my_fruit.name)\n"
   ]
  },
  {
   "cell_type": "markdown",
   "id": "50766ff1-4bb4-4fbc-a762-374f41542d50",
   "metadata": {},
   "source": [
    "Better Option to assign parameters"
   ]
  },
  {
   "cell_type": "code",
   "execution_count": 51,
   "id": "aa935569-072c-47b6-8e3f-dc76e22f7c84",
   "metadata": {},
   "outputs": [
    {
     "name": "stdout",
     "output_type": "stream",
     "text": [
      "expires on 07.20.2021\n",
      "my apple is red\n"
     ]
    }
   ],
   "source": [
    "class Fruit:\n",
    "    def __init__(self, name, clr): #Function\n",
    "        self.name = name\n",
    "        self.color = clr\n",
    "        self.exp_date = \"07.20.2021\"  # NOTE: Local variable it won't work here, without the self. in front (turns it into an attribute)\n",
    "        \n",
    "\n",
    "    def details (self):   # Method is a function related to objects\n",
    "        print(\"expires on \" + self.exp_date) # NOTE by adding the variable here it should work now. Add the .self here also\n",
    "        print('my ' + self.name + \" is \"+ self.color) \n",
    "       \n",
    "\n",
    "apple = Fruit(\"apple\", \"red\")\n",
    "banana = Fruit('banana', 'yellow')\n",
    "kiwi = Fruit('kiwi', 'green')\n",
    "\n",
    "apple.details()\n",
    "\n",
    "\n"
   ]
  },
  {
   "cell_type": "code",
   "execution_count": 52,
   "id": "47ea4030-3415-4970-a9e6-d17345236a7f",
   "metadata": {},
   "outputs": [
    {
     "name": "stdout",
     "output_type": "stream",
     "text": [
      "expires on 07.20.2021\n",
      "my apple is red\n"
     ]
    }
   ],
   "source": [
    "class Fruit:\n",
    "    def __init__(self, name, clr): #Function\n",
    "        self.name = name\n",
    "        self.color = clr\n",
    "        # Removed the exp_date that was here\n",
    "        \n",
    "\n",
    "    def details (self):   # Method is a function related to objects\n",
    "        exp_date = \"07.20.2021\" # Alternate: You can just move the variable under Details to avoid the need for .self as above.\n",
    "        print(\"expires on \" + exp_date)\n",
    "        print('my ' + self.name + \" is \"+ self.color) \n",
    "       \n",
    "\n",
    "apple = Fruit(\"apple\", \"red\")\n",
    "banana = Fruit('banana', 'yellow')\n",
    "kiwi = Fruit('kiwi', 'green')\n",
    "\n",
    "apple.details()\n"
   ]
  },
  {
   "cell_type": "code",
   "execution_count": 61,
   "id": "7b1c6622-1dc6-4479-8ddc-4e18a9675e11",
   "metadata": {},
   "outputs": [
    {
     "name": "stdout",
     "output_type": "stream",
     "text": [
      "<class '__main__.Fruit'>\n"
     ]
    }
   ],
   "source": [
    "class my_class:\n",
    "    def __init__(self):\n",
    "        self.attr = []\n",
    "\n",
    "\n",
    "# Why is init important?  it's where we initialize all the attributes, it's automatically executed with every new class instance.\n",
    "# We only defined init but never had to call it \n",
    "# it has a reserved name\n",
    "\n",
    "\n",
    "class Fruit:\n",
    "    def __init__(self, name, clr):\n",
    "        self.name = name\n",
    "        self. color = clr\n",
    "        \n",
    "    def details(self):\n",
    "        print(\"my \" + self.name +\n",
    "                \" is \" + self.color)\n",
    "\n",
    "apple = Fruit(\"apple\", \"red\")\n",
    "\n",
    "\n",
    "    \n",
    "# About the self - which always represents the current instance of the class - we still refer to the same object from method to method\n",
    "# When self is in a new instance, object - self will have a completely different meaning.\n",
    "\n",
    "# NOTE: JS calls CONSTRUCTOR but in Python it's considered to be a CLASS\n",
    "# NOTE: JS calls THIS and in Python it's considered to be SELF\n",
    "\n",
    "\n",
    "# OOP  - Object Oriented Programming.\n",
    "    # a set of programming principles\n",
    "    # deals with objects rather than lone-standing data and lone-standing procedures.\n",
    "    # bundles data with functionality to create objects that interact one with another.\n",
    "\n",
    "# self. prefix variables will be called Attributes\n",
    "# functions within a class will be called Methods\n",
    "# variables assigned to classes will be called Objects.\n",
    "\n",
    "\n",
    "\n"
   ]
  },
  {
   "cell_type": "code",
   "execution_count": null,
   "id": "512cf908-e398-49c4-bad3-6346ceb6fe8c",
   "metadata": {},
   "outputs": [],
   "source": []
  }
 ],
 "metadata": {
  "kernelspec": {
   "display_name": "Python 3 (ipykernel)",
   "language": "python",
   "name": "python3"
  },
  "language_info": {
   "codemirror_mode": {
    "name": "ipython",
    "version": 3
   },
   "file_extension": ".py",
   "mimetype": "text/x-python",
   "name": "python",
   "nbconvert_exporter": "python",
   "pygments_lexer": "ipython3",
   "version": "3.12.7"
  }
 },
 "nbformat": 4,
 "nbformat_minor": 5
}
